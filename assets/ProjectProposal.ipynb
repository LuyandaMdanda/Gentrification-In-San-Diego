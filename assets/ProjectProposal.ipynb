{
 "cells": [
  {
   "cell_type": "markdown",
   "metadata": {},
   "source": [
    "# COGS 108 - Assignment 4: Project Proposal"
   ]
  },
  {
   "cell_type": "markdown",
   "metadata": {},
   "source": [
    "## Important\n",
    "\n",
    "- Make sure all group member (3-5 people) are listed in the group members section.\n",
    "- ONE, and only one, member of your group should upload this notebook to TritonED. \n",
    "- Each member of the group will receive the same grade on this assignment. \n",
    "- Keep the file name the same: submit the file 'A4_ProjectProposal.ipynb'"
   ]
  },
  {
   "cell_type": "markdown",
   "metadata": {},
   "source": [
    "## Overview"
   ]
  },
  {
   "cell_type": "markdown",
   "metadata": {},
   "source": [
    "Read the project description, and detailed instructions for this assignment, in the 'A4_ProjectOutlineAndProposal' pdf."
   ]
  },
  {
   "cell_type": "markdown",
   "metadata": {},
   "source": [
    " ## Group Members: Fill in the Student ID's of each group member here\n",
    "- A13311083\n",
    "- A13567468\n",
    "- A12814827"
   ]
  },
  {
   "cell_type": "markdown",
   "metadata": {},
   "source": [
    "### Research Question\n",
    "\n",
    "What is your research question? (1-2 sentences)"
   ]
  },
  {
   "cell_type": "markdown",
   "metadata": {},
   "source": [
    "What are the gentrification-related factors which have the largest contribution to homelessness and the displacement of people in San Diego, and what would be required to reduce the negative effects assocaited with them?"
   ]
  },
  {
   "cell_type": "markdown",
   "metadata": {},
   "source": [
    "### Hypothesis\n",
    "\n",
    "What is your prediction (2-3 sentences)"
   ]
  },
  {
   "cell_type": "markdown",
   "metadata": {},
   "source": [
    "We believe a significant increase in property prices, along with increasing disparity in income growth are having significant impacts in causing displacement and homelessness in San Diego. Increasing housing prices would signify a higher cost of living, while the increasing income disparity would mean low-income households would be less able to keep up with these costs"
   ]
  },
  {
   "cell_type": "markdown",
   "metadata": {},
   "source": [
    "### Dataset(s)\n",
    "\n",
    "What data will you use to answer your question? Describe the dataset in terms of number of observations, what kind of features it contains, etc. You must use at least one dataset containing at least approximately 1000 observations (if your data are smaller but you feel they are sufficient, email Prof. Voytek). You are welcome (and in fact recommended) to find multiple datasets! If you do so, describe each one, and briefly explain how you will combine them together. "
   ]
  },
  {
   "cell_type": "markdown",
   "metadata": {},
   "source": [
    "\n",
    "- Dataset Name: San Diego Census Tracts\n",
    "- Link to the dataset: http://ds.civicknowledge.org.s3.amazonaws.com/sandiegodata.org/sandiegocensustract.xlsx\n",
    "- Number of observations: 626\n",
    "Detail:\n",
    "A File created by David Krysl with data about a wide range of topics, linked to San Diego County census tracts. Variables include population, poverty rates, crowded housing, pollution, number of liquor stores, uemployment rates, uninsured percentage and many more for multiple neighborhoods in San Diego.\n",
    "\n",
    "\n",
    "- Dataset Name: Land Prices for 46 Metro Areas\n",
    "- Link to the dataset: http://datatoolkits.lincolninst.edu/subcenters/land-values/data/landdata-msas-2016q1.xls\n",
    "- Number of observations: 5798\n",
    "Detail:\n",
    "The data provided here contain estimates of the average value of housing, land, and structures, and price indexes for land and housing, for the average single-family detached owner-occupied housing unit in each of 46 large metropolitan areas in the United States, including San Diego, San Franssisco and New York.  The data set is quarterly spanning the 1984:4 – 2016:1 period\n",
    "\n",
    "\n",
    "- Dataset Name: San Diego Region Crime Incidents 2007 - 2013\n",
    "- Link to the dataset: https://s3.amazonaws.com/s3.sandiegodata.org/repo/clarinova.com/crime-incidents-casnd-7ba4-r3/incidents-100k.csv\n",
    "- Number of observations: 100000\n",
    "Detail:\n",
    "Processed crime incidents, based on data supplied by SANDAG. This dataset includes geocoded crime incidents from 1 Jan 2007 to 31 March 2013 that were returned by SANDAG\n",
    "\n",
    "\n",
    "Combination:\n",
    "We plan to use the Census data along with the Land Prices in San Diego to overview how the changes in property values in San Diego have effected certain living standards and metrics, such as education level, poverty and unemployment rates. Then we would use the Crime Incident data to analyse the occurance of crimes in the different regions of San Diego and see how their frequencies change over a period of time, forming a measurement of which communities are better and worse off. All of this data will be looked at across a period of time (approximately 2007 - present)."
   ]
  },
  {
   "cell_type": "markdown",
   "metadata": {},
   "source": [
    "### Background & Prior Work\n",
    "\n",
    "Why is this question of interest, what background information led you to your hypothesis, and why is this important?\n",
    "\n",
    "Find some relevant prior work, and reference them. Even if you think you have a totally novel question, find the most similar prior work you can, and discuss how it relates to your project. \n",
    "\n",
    "References can be research publications, but they need not be: blogs, github repositories, company websites, etc., are viable references if they are relevant to your project.\n",
    "\n",
    "(2-3 paragraphs, including at least 2 references)"
   ]
  },
  {
   "cell_type": "markdown",
   "metadata": {},
   "source": [
    "\n",
    "To us, this question is of big interest because the problem is just onsetting in San Diego. First, gentrification is defined as bringing lower-income areas to a middle-class status. Often this involves developing a city’s infrastructure, but it is mostly just triggered by richer people moving into a certain area. Gentrification, while definitely existent in San Diego, is still new. Census data analyzed by governing.com shows a big growth in gentrification from 2000 to 2010, but it also shows that much of San Diego may still be gentrified. This is concerning to us because of the massive problems the process has caused in the past -- specifically in San Francisco and New York. San Francisco is going through an unprecedented housing crisis right now, and the city’s urban developer seriously worries about getrificaiton’s contributions to this (sfexaminer.com). In addition, we are seeing a large rise in homelessness in San Diego. We see more and more people out on the streets as we walk through downtown, and hear more about it becoming a major problem. The San Diego Tribune has recently confirmed these observations with analysis on the big rise of homelessness, especially in downtown San Diego.\n",
    "\n",
    "As San Diego attempts to grow its economy into what people are hoping is “the next Silicon Valley”, we are seeing the stage being set for San Diego to face similar housing problems that SF is struggling to deal with. We hope to bring some awareness and inspire some caution about where the housing situation of San Diego may be heading. \n",
    "\n",
    "Our hypothesis mainly stems from looking at the factors affecting San Francisco regarding gentrification -- which show that low-income neighborhoods are the most affected. House pricing has been a consistently used measure for the cost of living in an area, and because of the exaggerated effect on low-income areas, we believe the widening income gap will worsen the exaggeration. These two ideas - extrapolated from housing in San Francisco and income in the nation - led to our hypothesis. \n",
    "\n",
    "\n",
    "Referencess (include a link):\n",
    "- 1) San Diego Gentrification Maps and Data - http://www.governing.com/gov-data/san-diego-gentrification-maps-demographic-data.html, \n",
    "- 2) San Diego Homelessness - http://www.sandiegouniontribune.com/news/homelessness/sd-me-homeless-count-20170419-story.html\n",
    "- 3) SF Gentrification concern - http://www.sfexaminer.com/sf-planning-director-calls-gentrification-undeniable-serious-concern/\n",
    "- 4) SF urban displacement - http://www.urbandisplacement.org/map/sf"
   ]
  },
  {
   "cell_type": "markdown",
   "metadata": {},
   "source": [
    "### Proposed Methods\n",
    "\n",
    "What methods will you use to analyze your data?\n",
    "\n",
    "- How 'clean' is the data? To the extent that it requires cleaning, how will you do so?\n",
    "- How will you analyze the data? Be as specific as you can. Briefly mention any pre-processing steps that are required for your methods (for example, checking data distributions and performing any transformations that may be required). Include a brief outline of how you will apply your chosen method(s). \n",
    "- What do you plan to report? Briefly mention any key visualizations you plan to create, and/or the kind of result you will be able to report that addresses your question (this could be, for example, the outcome of some statistical test(s), prediction error on a model, a model fit parameter, etc.).\n",
    "- Include a list of packages you expect to use for you project. If you plan to use packages we have not used in class, add a very brief description about them (a few words is sufficient). "
   ]
  },
  {
   "cell_type": "markdown",
   "metadata": {},
   "source": [
    "*Fill in your proposed methods information here:*\n",
    "\n",
    "*Data Cleaning (2-3 sentences)*\n",
    "Since we’re working with multiple data sets (with numerous features), from varying time frames, there is a significant amount of Data Cleaning required in this project. We’ll be dropping columns that we don’t intuitively feel correlate and are unrelated with gentrification, and, moreover, we’ll be merging a few datasets along the timeframe. We also have some data which contains information about nation-wide cities from which we would have to extract required information for San Diego, and the cities we plan to compare San Diego with. \n",
    "\n",
    "*Data Analysis (1-2 paragraphs)*\n",
    "The first step in getting our multiple data sets to work together is by ensuring we look at factor within the same time period. For this issue, we will choose to look at different statistical factors within 1 year by finding the average of each factor within each year. We will use t-test to see the effects of each factor across different regions Then we will begin to correlate different factors to identify if there is a relationship/interaction between them.\n",
    "\n",
    "Once we have identified the factors which have a somewhat large correlation to the gentrification related factors, we plan to implement predictive models learnt in class to try fit the data, and further extrapolate the future. This will rely on linear modeling, collinearities between variables, and some dimensionality reduction to deal with the large number of variables given to us by census data. \n",
    "\n",
    "*What to report (2-3 sentences)*\n",
    "We plan to find and report the variables which most strongly correlate with gentrification related negative factors, and its effects across multiple regions in San Diego over a period of several years. We want to extrapolate the situation - in terms of house pricing and population - under which San Diego will be in the near future and, moreover, find feasible solutions to reduce and minimize these factors by identifying factors which could be compromised and changed, possibly through the introduction of new policies.\n",
    "\n",
    "Packages we plan to use:\n",
    "- pandas (dataframes)\n",
    "- numpy\n",
    "- matplotlib\n",
    "- geoplotlib (to map san diego by region)"
   ]
  },
  {
   "cell_type": "markdown",
   "metadata": {},
   "source": [
    "### Discussion\n",
    "\n",
    "What are the pitfalls and potential confounds of your data and/or methods? For example, how might biases in your data sources or analyses influence your interpretations? What will you do if you methods don't work and/or your hypotheses are wrong?\n",
    "\n",
    "(2-3 paragraphs)"
   ]
  },
  {
   "cell_type": "markdown",
   "metadata": {},
   "source": [
    "*Fill in your discussion information here*\n",
    "\n",
    "The biggest limitation of our data is that our datasets do not align well with each other in terms of scope. The bulk of our analysis will be off of census data, which provides us a great, detailed snapshot into San Diego in recent years. The number of variables in that dataset and the fine granularity of regions are very useful for making region-by-region analysis with a lot of different possible factors. However, it is only a snapshot into 1 moment in time, and 1 census’ data won’t be great for showing us trends (though some data will be trend related). On the other hand, our second data set, the land prices data, have a great amount of data over several years. However, because this dataset covers cities across the nation, it does not have the granularity of giving us information neighborhood by neighborhood in San Diego. Part of our challenge and limitations will be in combining these and having solid evidence to show trends in regions over the years. We have to be careful not to take general stats (either about a particular year, or about San Diego as a whole area) and apply them too specifically (to multiple years / individual regions).  Combatting this may require the help of other datasets, such as an older census, or zillow housing data by neighborhood. Additionally, census data and crime data will have biases - census data tends to be better collected from certain demographics, while crime data is biased based on police response. \n",
    "\n",
    "Our second concern is our ambitious goal. Ideally, we are trying to use San Diego data to provide a solution to the gentrification problem in this city through prediction. This is especially ambitious because the problem hasn’t fully onset yet. Because of which, there is a fair analysis to be done as to whether certain assumptions we have about contributing factors to displacement hold true. To keep ourselves and our project in check, we want to modularize our goals such that we can take the project as far as we’d ideally want to, while at the same time, having milestones sufficient enough to serve as the project. So, we have broken our overall project into 3 goals as a way to manage the complications. First, we would like to simply identify the gentrification factors with the most impact on displacement and homelessness. Once this is achieved, we can move on to building a model to forecast how the displacement and homelessness problems will continue in the upcoming years. Finally, we hope to show how certain changes will forecast a better future for these issues. If none of these goals are attainable, then at the least, we can settle for showing how the factors of gentrification indeed exist in San Diego, but hopefully we’ll have an answer regarding homelessness and displacement. \n"
   ]
  }
 ],
 "metadata": {
  "kernelspec": {
   "display_name": "Python 2",
   "language": "python",
   "name": "python2"
  },
  "language_info": {
   "codemirror_mode": {
    "name": "ipython",
    "version": 2
   },
   "file_extension": ".py",
   "mimetype": "text/x-python",
   "name": "python",
   "nbconvert_exporter": "python",
   "pygments_lexer": "ipython2",
   "version": "2.7.13"
  }
 },
 "nbformat": 4,
 "nbformat_minor": 2
}
